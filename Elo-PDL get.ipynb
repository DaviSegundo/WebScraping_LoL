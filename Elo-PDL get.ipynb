{
 "cells": [
  {
   "cell_type": "markdown",
   "metadata": {},
   "source": [
    "- Fazer tratamento de erro"
   ]
  },
  {
   "cell_type": "code",
   "execution_count": 1,
   "metadata": {},
   "outputs": [],
   "source": [
    "from selenium import webdriver\n",
    "from selenium.webdriver.common.keys import Keys\n",
    "import pandas as pd\n",
    "import time"
   ]
  },
  {
   "cell_type": "code",
   "execution_count": 2,
   "metadata": {},
   "outputs": [],
   "source": [
    "# Código para abrir navegador\n",
    "navegador = webdriver.Chrome()"
   ]
  },
  {
   "cell_type": "code",
   "execution_count": 3,
   "metadata": {},
   "outputs": [],
   "source": [
    "pessoas = [\"Brain+Lag\", \"Why\", \"Dankpot7\", \"Romance+Dawn\", \"Dreadway\", \"Cinza+Falso\", \"Shallan+Davar\"]\n",
    "#pessoas = [\"El+Glub+Glub\"]"
   ]
  },
  {
   "cell_type": "code",
   "execution_count": 7,
   "metadata": {},
   "outputs": [],
   "source": [
    "elos = []\n",
    "dados = []\n",
    "win_rate = []\n",
    "campeoes = []\n",
    "\n",
    "for nome in pessoas:\n",
    "    campeao = []\n",
    "    \n",
    "    # Entra no perfil da pessoa\n",
    "    navegador.get(f\"https://br.op.gg/summoner/userName={nome}\")\n",
    "    \n",
    "    # Atualiza o perfil\n",
    "    #navegador.find_element_by_xpath('//*[@id=\"SummonerRefreshButton\"]').click()\n",
    "    \n",
    "    time.sleep(1)\n",
    "    \n",
    "    # Pega o elo\n",
    "    try:\n",
    "        elo = navegador.find_element_by_xpath('//*[@id=\"SummonerLayoutContent\"]/div[2]/div[1]/div[2]/div/div[2]').text\n",
    "        elos.append(elo)\n",
    "    except ValueError:\n",
    "        elos.append(\"None\")\n",
    "    \n",
    "    try:\n",
    "        dado = navegador.find_element_by_xpath('//*[@id=\"SummonerLayoutContent\"]/div[2]/div[1]/div[2]/div/div[3]').text\n",
    "        dados.append(dado)\n",
    "    except ValueError:\n",
    "        dados.append(\"None\")\n",
    "    \n",
    "    try:\n",
    "        win = navegador.find_element_by_xpath('//*[@id=\"SummonerLayoutContent\"]/div[2]/div[1]/div[2]/div/div[4]').text\n",
    "        win_rate.append(win)\n",
    "    except ValueError:\n",
    "        win_rate.append(\"None\")\n",
    "        \n",
    "    # Campeões jogados\n",
    "    try:\n",
    "        for i in range(1,11):\n",
    "            campeao.append(navegador.find_element_by_xpath(f'//*[@id=\"SummonerLayoutContent\"]/div[2]/div[2]/div/div[2]/div[3]/div[{i}]/div/div[1]/div[2]/div[4]/a').text)\n",
    "\n",
    "        navegador.find_element_by_xpath('//*[@id=\"SummonerLayoutContent\"]/div[2]/div[2]/div/div[2]/div[4]/a').click()\n",
    "        time.sleep(3)\n",
    "\n",
    "        \"\"\"for i in range(1,11):\n",
    "            campeao.append(navegador.find_element_by_xpath(f'//*[@id=\"SummonerLayoutContent\"]/div[2]/div[2]/div/div[2]/div[4]/div[{i}]/div/div[1]/div[2]/div[4]/a').text)\n",
    "        \"\"\"\n",
    "        campeoes.append(campeao)\n",
    "    except ValueError:\n",
    "        campeoes.append(\"None\")"
   ]
  },
  {
   "cell_type": "code",
   "execution_count": 8,
   "metadata": {},
   "outputs": [
    {
     "name": "stdout",
     "output_type": "stream",
     "text": [
      "['Platinum 4', 'Platinum 4', 'Gold 1', 'Silver 3', 'Platinum 2', 'Gold 3', 'Platinum 4']\n",
      "['68LP/ 25V 20L', '33LP/ 10V 6L', '73LP/ 47V 46L', '28LP/ 42V 44L', '3LP/ 19V 16L', '85LP/ 4V 10L', '74LP/ 9V 5L']\n",
      "['WinRate 56%', 'WinRate 63%', 'WinRate 51%', 'WinRate 49%', 'WinRate 54%', 'WinRate 29%', 'WinRate 64%']\n",
      "\n",
      "['Viktor', 'Viktor', 'Viktor', 'Viktor', 'Lulu', 'Thresh', 'Leona', 'Nasus', 'Sona', 'Viktor']\n",
      "['Caitlyn', 'Viego', 'Orianna', 'Veigar', 'Caitlyn', 'Malphite', 'Caitlyn', 'Caitlyn', 'Caitlyn', 'Caitlyn']\n",
      "['Brand', 'Jarvan IV', 'Lux', 'Lux', 'Lux', 'Brand', 'Brand', 'Brand', 'Brand', 'Brand']\n",
      "['Volibear', 'Yuumi', 'Udyr', 'Graves', 'Udyr', 'Volibear', 'Lulu', 'Rumble', 'Graves', 'LeBlanc']\n",
      "['Seraphine', 'Irelia', 'Kled', 'Vladimir', 'Vladimir', 'Rumble', 'Irelia', 'Camille', 'Camille', 'Pyke']\n",
      "['Sejuani', 'Sejuani', 'Hecarim', 'Ashe', 'Akali', 'Xayah', 'Samira', 'Viktor', 'Hecarim', 'Viego']\n",
      "['Sivir', 'Caitlyn', 'Orianna', 'Orianna', 'Miss Fortune', 'Tristana', 'Caitlyn', 'Sivir', 'Caitlyn', 'Caitlyn']\n"
     ]
    }
   ],
   "source": [
    "print(elos)\n",
    "print(dados)\n",
    "print(win_rate)\n",
    "print(\"\")\n",
    "for i in range(len(campeoes)):\n",
    "    print(campeoes[i])"
   ]
  },
  {
   "cell_type": "code",
   "execution_count": 9,
   "metadata": {},
   "outputs": [
    {
     "name": "stdout",
     "output_type": "stream",
     "text": [
      "['Brain Lag', 'Why', 'Dankpot7', 'Romance Dawn', 'Dreadway', 'Cinza Falso', 'Shallan Davar']\n",
      "['68', '33', '73', '28', '3L', '85', '74']\n",
      "['25V 20L', '10V 6L', '47V 46L', '42V 44L', '9V 16L', '4V 10L', '9V 5L']\n",
      "['56%', '63%', '51%', '49%', '54%', '29%', '64%']\n"
     ]
    }
   ],
   "source": [
    "pdls = []\n",
    "vitorias_derrotas = []\n",
    "taxa = []\n",
    "nomes = []\n",
    "\n",
    "for i in range(len(dados)):\n",
    "    pdl = dados[i][:2]\n",
    "    pdls.append(pdl)\n",
    "    \n",
    "    v_d = dados[i][6:]\n",
    "    vitorias_derrotas.append(v_d)\n",
    "    \n",
    "    tx = win_rate[i][8:]\n",
    "    taxa.append(tx)\n",
    "    \n",
    "    nm = pessoas[i].replace(\"+\", \" \")\n",
    "    nomes.append(nm)\n",
    "    \n",
    "print(nomes)\n",
    "print(pdls)\n",
    "print(vitorias_derrotas)\n",
    "print(taxa)"
   ]
  },
  {
   "cell_type": "code",
   "execution_count": 10,
   "metadata": {},
   "outputs": [
    {
     "data": {
      "text/html": [
       "<div>\n",
       "<style scoped>\n",
       "    .dataframe tbody tr th:only-of-type {\n",
       "        vertical-align: middle;\n",
       "    }\n",
       "\n",
       "    .dataframe tbody tr th {\n",
       "        vertical-align: top;\n",
       "    }\n",
       "\n",
       "    .dataframe thead th {\n",
       "        text-align: right;\n",
       "    }\n",
       "</style>\n",
       "<table border=\"1\" class=\"dataframe\">\n",
       "  <thead>\n",
       "    <tr style=\"text-align: right;\">\n",
       "      <th></th>\n",
       "      <th>Invocador</th>\n",
       "      <th>Elo</th>\n",
       "      <th>PLDs</th>\n",
       "      <th>Partidas</th>\n",
       "      <th>WinRate</th>\n",
       "      <th>Campeões</th>\n",
       "    </tr>\n",
       "  </thead>\n",
       "  <tbody>\n",
       "    <tr>\n",
       "      <th>0</th>\n",
       "      <td>Shallan Davar</td>\n",
       "      <td>Platinum 4</td>\n",
       "      <td>74</td>\n",
       "      <td>9V 5L</td>\n",
       "      <td>64%</td>\n",
       "      <td>[Sivir, Caitlyn, Orianna, Orianna, Miss Fortun...</td>\n",
       "    </tr>\n",
       "    <tr>\n",
       "      <th>1</th>\n",
       "      <td>Why</td>\n",
       "      <td>Platinum 4</td>\n",
       "      <td>33</td>\n",
       "      <td>10V 6L</td>\n",
       "      <td>63%</td>\n",
       "      <td>[Caitlyn, Viego, Orianna, Veigar, Caitlyn, Mal...</td>\n",
       "    </tr>\n",
       "    <tr>\n",
       "      <th>2</th>\n",
       "      <td>Brain Lag</td>\n",
       "      <td>Platinum 4</td>\n",
       "      <td>68</td>\n",
       "      <td>25V 20L</td>\n",
       "      <td>56%</td>\n",
       "      <td>[Viktor, Viktor, Viktor, Viktor, Lulu, Thresh,...</td>\n",
       "    </tr>\n",
       "    <tr>\n",
       "      <th>3</th>\n",
       "      <td>Dreadway</td>\n",
       "      <td>Platinum 2</td>\n",
       "      <td>3L</td>\n",
       "      <td>9V 16L</td>\n",
       "      <td>54%</td>\n",
       "      <td>[Seraphine, Irelia, Kled, Vladimir, Vladimir, ...</td>\n",
       "    </tr>\n",
       "    <tr>\n",
       "      <th>4</th>\n",
       "      <td>Dankpot7</td>\n",
       "      <td>Gold 1</td>\n",
       "      <td>73</td>\n",
       "      <td>47V 46L</td>\n",
       "      <td>51%</td>\n",
       "      <td>[Brand, Jarvan IV, Lux, Lux, Lux, Brand, Brand...</td>\n",
       "    </tr>\n",
       "    <tr>\n",
       "      <th>5</th>\n",
       "      <td>Romance Dawn</td>\n",
       "      <td>Silver 3</td>\n",
       "      <td>28</td>\n",
       "      <td>42V 44L</td>\n",
       "      <td>49%</td>\n",
       "      <td>[Volibear, Yuumi, Udyr, Graves, Udyr, Volibear...</td>\n",
       "    </tr>\n",
       "    <tr>\n",
       "      <th>6</th>\n",
       "      <td>Cinza Falso</td>\n",
       "      <td>Gold 3</td>\n",
       "      <td>85</td>\n",
       "      <td>4V 10L</td>\n",
       "      <td>29%</td>\n",
       "      <td>[Sejuani, Sejuani, Hecarim, Ashe, Akali, Xayah...</td>\n",
       "    </tr>\n",
       "  </tbody>\n",
       "</table>\n",
       "</div>"
      ],
      "text/plain": [
       "       Invocador         Elo PLDs Partidas WinRate  \\\n",
       "0  Shallan Davar  Platinum 4   74    9V 5L     64%   \n",
       "1            Why  Platinum 4   33   10V 6L     63%   \n",
       "2      Brain Lag  Platinum 4   68  25V 20L     56%   \n",
       "3       Dreadway  Platinum 2   3L   9V 16L     54%   \n",
       "4       Dankpot7      Gold 1   73  47V 46L     51%   \n",
       "5   Romance Dawn    Silver 3   28  42V 44L     49%   \n",
       "6    Cinza Falso      Gold 3   85   4V 10L     29%   \n",
       "\n",
       "                                            Campeões  \n",
       "0  [Sivir, Caitlyn, Orianna, Orianna, Miss Fortun...  \n",
       "1  [Caitlyn, Viego, Orianna, Veigar, Caitlyn, Mal...  \n",
       "2  [Viktor, Viktor, Viktor, Viktor, Lulu, Thresh,...  \n",
       "3  [Seraphine, Irelia, Kled, Vladimir, Vladimir, ...  \n",
       "4  [Brand, Jarvan IV, Lux, Lux, Lux, Brand, Brand...  \n",
       "5  [Volibear, Yuumi, Udyr, Graves, Udyr, Volibear...  \n",
       "6  [Sejuani, Sejuani, Hecarim, Ashe, Akali, Xayah...  "
      ]
     },
     "execution_count": 10,
     "metadata": {},
     "output_type": "execute_result"
    }
   ],
   "source": [
    "dataframe = pd.DataFrame()\n",
    "\n",
    "dataframe[\"Invocador\"] = nomes\n",
    "dataframe[\"Elo\"] = elos\n",
    "dataframe[\"PLDs\"] = pdls\n",
    "dataframe[\"Partidas\"] = vitorias_derrotas\n",
    "dataframe[\"WinRate\"] = taxa\n",
    "dataframe[\"Campeões\"] = campeoes\n",
    "\n",
    "dataframe = dataframe.sort_values(\"WinRate\", ascending=False)\n",
    "dataframe = dataframe.reset_index(drop=True)\n",
    "\n",
    "dataframe"
   ]
  },
  {
   "cell_type": "code",
   "execution_count": null,
   "metadata": {},
   "outputs": [],
   "source": [
    "json = dataframe.to_dict()\n",
    "\n",
    "json"
   ]
  },
  {
   "cell_type": "code",
   "execution_count": null,
   "metadata": {},
   "outputs": [],
   "source": []
  }
 ],
 "metadata": {
  "kernelspec": {
   "display_name": "Python 3",
   "language": "python",
   "name": "python3"
  },
  "language_info": {
   "codemirror_mode": {
    "name": "ipython",
    "version": 3
   },
   "file_extension": ".py",
   "mimetype": "text/x-python",
   "name": "python",
   "nbconvert_exporter": "python",
   "pygments_lexer": "ipython3",
   "version": "3.8.5"
  }
 },
 "nbformat": 4,
 "nbformat_minor": 4
}
